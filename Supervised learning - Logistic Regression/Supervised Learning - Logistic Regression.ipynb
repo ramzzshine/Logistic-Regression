{
 "cells": [
  {
   "cell_type": "code",
   "execution_count": 1,
   "metadata": {},
   "outputs": [],
   "source": [
    "import numpy as np\n",
    "import pandas as pd\n",
    "import matplotlib.pyplot as plt\n",
    "import seaborn as sns\n",
    "\n",
    "from sklearn.linear_model import LogisticRegression\n",
    "from sklearn.model_selection import train_test_split"
   ]
  },
  {
   "cell_type": "code",
   "execution_count": 4,
   "metadata": {},
   "outputs": [],
   "source": [
    "dat = pd.read_excel(r'C:\\Users\\Ramyavepuri\\Desktop\\ML\\data sets\\Logistic Regression.xlsx')"
   ]
  },
  {
   "cell_type": "code",
   "execution_count": 5,
   "metadata": {},
   "outputs": [],
   "source": [
    "data = dat.copy()"
   ]
  },
  {
   "cell_type": "code",
   "execution_count": 6,
   "metadata": {},
   "outputs": [
    {
     "data": {
      "text/html": [
       "<div>\n",
       "<style scoped>\n",
       "    .dataframe tbody tr th:only-of-type {\n",
       "        vertical-align: middle;\n",
       "    }\n",
       "\n",
       "    .dataframe tbody tr th {\n",
       "        vertical-align: top;\n",
       "    }\n",
       "\n",
       "    .dataframe thead th {\n",
       "        text-align: right;\n",
       "    }\n",
       "</style>\n",
       "<table border=\"1\" class=\"dataframe\">\n",
       "  <thead>\n",
       "    <tr style=\"text-align: right;\">\n",
       "      <th></th>\n",
       "      <th>PATIENT ID</th>\n",
       "      <th>AGE</th>\n",
       "      <th>GENDER</th>\n",
       "      <th>GLUCOSE</th>\n",
       "      <th>INSULIN miU/L</th>\n",
       "      <th>BLOOD PRESSURE</th>\n",
       "      <th>BODY MASS INDEX</th>\n",
       "      <th>WEIGHT</th>\n",
       "      <th>HEREDITARY</th>\n",
       "      <th>SMOKING/ALCOHOL</th>\n",
       "      <th>HbA1c</th>\n",
       "      <th>TRIGLYCERIDE mg/dl mg/dl</th>\n",
       "      <th>PHYSICAL EXERCISE</th>\n",
       "      <th>STEROID TREATMENT</th>\n",
       "      <th>gestational diabete women</th>\n",
       "      <th>CALORIE INTAKE</th>\n",
       "      <th>DIABETES</th>\n",
       "    </tr>\n",
       "  </thead>\n",
       "  <tbody>\n",
       "    <tr>\n",
       "      <td>0</td>\n",
       "      <td>PDM0001</td>\n",
       "      <td>above50</td>\n",
       "      <td>F</td>\n",
       "      <td>98</td>\n",
       "      <td>25</td>\n",
       "      <td>80.0</td>\n",
       "      <td>21.0</td>\n",
       "      <td>58</td>\n",
       "      <td>YES</td>\n",
       "      <td>YES</td>\n",
       "      <td>6.619852</td>\n",
       "      <td>221.969299</td>\n",
       "      <td>YES</td>\n",
       "      <td>NO</td>\n",
       "      <td>NO</td>\n",
       "      <td>AROUND 2100</td>\n",
       "      <td>NO</td>\n",
       "    </tr>\n",
       "    <tr>\n",
       "      <td>1</td>\n",
       "      <td>PDM0002</td>\n",
       "      <td>40-50</td>\n",
       "      <td>F</td>\n",
       "      <td>67</td>\n",
       "      <td>18</td>\n",
       "      <td>124.0</td>\n",
       "      <td>21.0</td>\n",
       "      <td>65</td>\n",
       "      <td>NO</td>\n",
       "      <td>NO</td>\n",
       "      <td>4.816598</td>\n",
       "      <td>145.699564</td>\n",
       "      <td>NO</td>\n",
       "      <td>NO</td>\n",
       "      <td>NO</td>\n",
       "      <td>AROUND 2100</td>\n",
       "      <td>NO</td>\n",
       "    </tr>\n",
       "    <tr>\n",
       "      <td>2</td>\n",
       "      <td>PDM0003</td>\n",
       "      <td>40-50</td>\n",
       "      <td>M</td>\n",
       "      <td>110</td>\n",
       "      <td>24</td>\n",
       "      <td>83.0</td>\n",
       "      <td>25.0</td>\n",
       "      <td>72</td>\n",
       "      <td>YES</td>\n",
       "      <td>NO</td>\n",
       "      <td>6.510829</td>\n",
       "      <td>215.501935</td>\n",
       "      <td>YES</td>\n",
       "      <td>NO</td>\n",
       "      <td>NO</td>\n",
       "      <td>AROUND 3700</td>\n",
       "      <td>YES</td>\n",
       "    </tr>\n",
       "    <tr>\n",
       "      <td>3</td>\n",
       "      <td>PDM0004</td>\n",
       "      <td>30-40</td>\n",
       "      <td>M</td>\n",
       "      <td>116</td>\n",
       "      <td>25</td>\n",
       "      <td>125.0</td>\n",
       "      <td>25.0</td>\n",
       "      <td>88</td>\n",
       "      <td>YES</td>\n",
       "      <td>NO</td>\n",
       "      <td>6.411004</td>\n",
       "      <td>190.124765</td>\n",
       "      <td>NO</td>\n",
       "      <td>NO</td>\n",
       "      <td>NO</td>\n",
       "      <td>AROUND 3700</td>\n",
       "      <td>NO</td>\n",
       "    </tr>\n",
       "    <tr>\n",
       "      <td>4</td>\n",
       "      <td>PDM0005</td>\n",
       "      <td>above50</td>\n",
       "      <td>M</td>\n",
       "      <td>74</td>\n",
       "      <td>15</td>\n",
       "      <td>87.0</td>\n",
       "      <td>20.0</td>\n",
       "      <td>77</td>\n",
       "      <td>YES</td>\n",
       "      <td>YES</td>\n",
       "      <td>5.135397</td>\n",
       "      <td>178.866059</td>\n",
       "      <td>NO</td>\n",
       "      <td>NO</td>\n",
       "      <td>NO</td>\n",
       "      <td>AROUND 2300</td>\n",
       "      <td>YES</td>\n",
       "    </tr>\n",
       "  </tbody>\n",
       "</table>\n",
       "</div>"
      ],
      "text/plain": [
       "  PATIENT ID      AGE GENDER  GLUCOSE  INSULIN miU/L  BLOOD PRESSURE  \\\n",
       "0    PDM0001  above50      F       98             25            80.0   \n",
       "1    PDM0002    40-50      F       67             18           124.0   \n",
       "2    PDM0003    40-50      M      110             24            83.0   \n",
       "3    PDM0004    30-40      M      116             25           125.0   \n",
       "4    PDM0005  above50      M       74             15            87.0   \n",
       "\n",
       "   BODY MASS INDEX  WEIGHT HEREDITARY SMOKING/ALCOHOL     HbA1c  \\\n",
       "0             21.0      58        YES             YES  6.619852   \n",
       "1             21.0      65         NO              NO  4.816598   \n",
       "2             25.0      72        YES              NO  6.510829   \n",
       "3             25.0      88        YES              NO  6.411004   \n",
       "4             20.0      77        YES             YES  5.135397   \n",
       "\n",
       "   TRIGLYCERIDE mg/dl mg/dl PHYSICAL EXERCISE STEROID TREATMENT  \\\n",
       "0                221.969299               YES                NO   \n",
       "1                145.699564                NO                NO   \n",
       "2                215.501935               YES                NO   \n",
       "3                190.124765                NO                NO   \n",
       "4                178.866059                NO                NO   \n",
       "\n",
       "  gestational diabete women  CALORIE INTAKE DIABETES  \n",
       "0                         NO    AROUND 2100       NO  \n",
       "1                         NO    AROUND 2100       NO  \n",
       "2                         NO    AROUND 3700      YES  \n",
       "3                         NO    AROUND 3700       NO  \n",
       "4                         NO    AROUND 2300      YES  "
      ]
     },
     "execution_count": 6,
     "metadata": {},
     "output_type": "execute_result"
    }
   ],
   "source": [
    "data.head()"
   ]
  },
  {
   "cell_type": "code",
   "execution_count": 7,
   "metadata": {},
   "outputs": [
    {
     "data": {
      "text/plain": [
       "(199999, 17)"
      ]
     },
     "execution_count": 7,
     "metadata": {},
     "output_type": "execute_result"
    }
   ],
   "source": [
    "data.shape"
   ]
  },
  {
   "cell_type": "code",
   "execution_count": 8,
   "metadata": {},
   "outputs": [
    {
     "data": {
      "text/html": [
       "<div>\n",
       "<style scoped>\n",
       "    .dataframe tbody tr th:only-of-type {\n",
       "        vertical-align: middle;\n",
       "    }\n",
       "\n",
       "    .dataframe tbody tr th {\n",
       "        vertical-align: top;\n",
       "    }\n",
       "\n",
       "    .dataframe thead th {\n",
       "        text-align: right;\n",
       "    }\n",
       "</style>\n",
       "<table border=\"1\" class=\"dataframe\">\n",
       "  <thead>\n",
       "    <tr style=\"text-align: right;\">\n",
       "      <th></th>\n",
       "      <th>GLUCOSE</th>\n",
       "      <th>INSULIN miU/L</th>\n",
       "      <th>BLOOD PRESSURE</th>\n",
       "      <th>BODY MASS INDEX</th>\n",
       "      <th>WEIGHT</th>\n",
       "      <th>HbA1c</th>\n",
       "      <th>TRIGLYCERIDE mg/dl mg/dl</th>\n",
       "    </tr>\n",
       "  </thead>\n",
       "  <tbody>\n",
       "    <tr>\n",
       "      <td>count</td>\n",
       "      <td>199999.000000</td>\n",
       "      <td>199999.000000</td>\n",
       "      <td>199996.000000</td>\n",
       "      <td>199994.000000</td>\n",
       "      <td>199999.000000</td>\n",
       "      <td>199991.000000</td>\n",
       "      <td>199967.000000</td>\n",
       "    </tr>\n",
       "    <tr>\n",
       "      <td>mean</td>\n",
       "      <td>92.540438</td>\n",
       "      <td>22.387562</td>\n",
       "      <td>105.016305</td>\n",
       "      <td>23.770248</td>\n",
       "      <td>77.220786</td>\n",
       "      <td>5.508652</td>\n",
       "      <td>192.789184</td>\n",
       "    </tr>\n",
       "    <tr>\n",
       "      <td>std</td>\n",
       "      <td>16.169418</td>\n",
       "      <td>4.347355</td>\n",
       "      <td>20.475761</td>\n",
       "      <td>3.052589</td>\n",
       "      <td>14.292129</td>\n",
       "      <td>1.451586</td>\n",
       "      <td>166.505788</td>\n",
       "    </tr>\n",
       "    <tr>\n",
       "      <td>min</td>\n",
       "      <td>65.000000</td>\n",
       "      <td>15.000000</td>\n",
       "      <td>70.000000</td>\n",
       "      <td>0.000000</td>\n",
       "      <td>45.000000</td>\n",
       "      <td>4.000006</td>\n",
       "      <td>0.000000</td>\n",
       "    </tr>\n",
       "    <tr>\n",
       "      <td>25%</td>\n",
       "      <td>78.000000</td>\n",
       "      <td>19.000000</td>\n",
       "      <td>87.000000</td>\n",
       "      <td>21.000000</td>\n",
       "      <td>70.000000</td>\n",
       "      <td>4.755447</td>\n",
       "      <td>153.403889</td>\n",
       "    </tr>\n",
       "    <tr>\n",
       "      <td>50%</td>\n",
       "      <td>93.000000</td>\n",
       "      <td>23.000000</td>\n",
       "      <td>105.000000</td>\n",
       "      <td>24.000000</td>\n",
       "      <td>78.000000</td>\n",
       "      <td>5.501138</td>\n",
       "      <td>175.137072</td>\n",
       "    </tr>\n",
       "    <tr>\n",
       "      <td>75%</td>\n",
       "      <td>107.000000</td>\n",
       "      <td>26.000000</td>\n",
       "      <td>123.000000</td>\n",
       "      <td>25.000000</td>\n",
       "      <td>89.000000</td>\n",
       "      <td>6.248353</td>\n",
       "      <td>230.404508</td>\n",
       "    </tr>\n",
       "    <tr>\n",
       "      <td>max</td>\n",
       "      <td>120.000000</td>\n",
       "      <td>30.000000</td>\n",
       "      <td>140.000000</td>\n",
       "      <td>30.000000</td>\n",
       "      <td>100.000000</td>\n",
       "      <td>200.000000</td>\n",
       "      <td>70000.000000</td>\n",
       "    </tr>\n",
       "  </tbody>\n",
       "</table>\n",
       "</div>"
      ],
      "text/plain": [
       "             GLUCOSE  INSULIN miU/L  BLOOD PRESSURE  BODY MASS INDEX  \\\n",
       "count  199999.000000  199999.000000   199996.000000    199994.000000   \n",
       "mean       92.540438      22.387562      105.016305        23.770248   \n",
       "std        16.169418       4.347355       20.475761         3.052589   \n",
       "min        65.000000      15.000000       70.000000         0.000000   \n",
       "25%        78.000000      19.000000       87.000000        21.000000   \n",
       "50%        93.000000      23.000000      105.000000        24.000000   \n",
       "75%       107.000000      26.000000      123.000000        25.000000   \n",
       "max       120.000000      30.000000      140.000000        30.000000   \n",
       "\n",
       "              WEIGHT          HbA1c  TRIGLYCERIDE mg/dl mg/dl  \n",
       "count  199999.000000  199991.000000             199967.000000  \n",
       "mean       77.220786       5.508652                192.789184  \n",
       "std        14.292129       1.451586                166.505788  \n",
       "min        45.000000       4.000006                  0.000000  \n",
       "25%        70.000000       4.755447                153.403889  \n",
       "50%        78.000000       5.501138                175.137072  \n",
       "75%        89.000000       6.248353                230.404508  \n",
       "max       100.000000     200.000000              70000.000000  "
      ]
     },
     "execution_count": 8,
     "metadata": {},
     "output_type": "execute_result"
    }
   ],
   "source": [
    "data.describe()"
   ]
  },
  {
   "cell_type": "code",
   "execution_count": 9,
   "metadata": {},
   "outputs": [
    {
     "name": "stdout",
     "output_type": "stream",
     "text": [
      "<class 'pandas.core.frame.DataFrame'>\n",
      "RangeIndex: 199999 entries, 0 to 199998\n",
      "Data columns (total 17 columns):\n",
      "PATIENT ID                    199999 non-null object\n",
      "AGE                           199998 non-null object\n",
      "GENDER                        199999 non-null object\n",
      "GLUCOSE                       199999 non-null int64\n",
      "INSULIN miU/L                 199999 non-null int64\n",
      "BLOOD PRESSURE                199996 non-null float64\n",
      "BODY MASS INDEX               199994 non-null float64\n",
      "WEIGHT                        199999 non-null int64\n",
      "HEREDITARY                    199987 non-null object\n",
      "SMOKING/ALCOHOL               199988 non-null object\n",
      "HbA1c                         199991 non-null float64\n",
      "TRIGLYCERIDE mg/dl mg/dl      199967 non-null float64\n",
      "PHYSICAL EXERCISE             199999 non-null object\n",
      "STEROID TREATMENT             174451 non-null object\n",
      "gestational diabete women     199982 non-null object\n",
      "CALORIE INTAKE                179942 non-null object\n",
      "DIABETES                      194835 non-null object\n",
      "dtypes: float64(4), int64(3), object(10)\n",
      "memory usage: 25.9+ MB\n"
     ]
    }
   ],
   "source": [
    "data.info()"
   ]
  },
  {
   "cell_type": "markdown",
   "metadata": {},
   "source": [
    "__Check null__"
   ]
  },
  {
   "cell_type": "code",
   "execution_count": 8,
   "metadata": {},
   "outputs": [
    {
     "data": {
      "text/plain": [
       "PATIENT ID                        0\n",
       "AGE                               1\n",
       "GENDER                            0\n",
       "GLUCOSE                           0\n",
       "INSULIN miU/L                     0\n",
       "BLOOD PRESSURE                    3\n",
       "BODY MASS INDEX                   5\n",
       "WEIGHT                            0\n",
       "HEREDITARY                       12\n",
       "SMOKING/ALCOHOL                  11\n",
       "HbA1c                             8\n",
       "TRIGLYCERIDE mg/dl mg/dl         32\n",
       "PHYSICAL EXERCISE                 0\n",
       "STEROID TREATMENT             25548\n",
       "gestational diabete women        17\n",
       "CALORIE INTAKE                20057\n",
       "DIABETES                       5164\n",
       "dtype: int64"
      ]
     },
     "execution_count": 8,
     "metadata": {},
     "output_type": "execute_result"
    }
   ],
   "source": [
    "data.isnull().sum()"
   ]
  },
  {
   "cell_type": "code",
   "execution_count": 9,
   "metadata": {
    "scrolled": false
   },
   "outputs": [
    {
     "name": "stdout",
     "output_type": "stream",
     "text": [
      "PATIENT ID\n",
      "['PDM0001' 'PDM0002' 'PDM0003' ... 'PDM199997' 'PDM199998' 'PDM199999']\n",
      "\n",
      "\n",
      "AGE\n",
      "['above50' '40-50' '30-40' '20-30' nan]\n",
      "\n",
      "\n",
      "GENDER\n",
      "['F' 'M' 'ABC' 'AWE']\n",
      "\n",
      "\n",
      "GLUCOSE\n",
      "[ 98  67 110 116  74  89 111 103  86 100 104  90 106  99  71  93  75  70\n",
      "  66 113  91 105  80  94  85 108 115  87  96 101 114  76  73 119 118  92\n",
      "  83 117  81 112  78  95 109  82  72  69  84 107  65  79  97  68  88 102\n",
      "  77 120]\n",
      "\n",
      "\n",
      "INSULIN miU/L\n",
      "[25 18 24 15 19 28 23 29 20 27 22 17 21 26 30 16]\n",
      "\n",
      "\n",
      "BLOOD PRESSURE\n",
      "[ 80. 124.  83. 125.  87. 128. 127.  97. 120.  96. 134. 112.  72.  84.\n",
      " 140. 121. 138. 114.  91. 139.  71.  82. 137.  79. 131.  95.  81.  73.\n",
      " 123. 119. 104.  77. 101. 122. 111.  94.  86. 110.  93. 108.  90. 117.\n",
      "  85. 102.  nan  76. 126.  88. 106. 115.  92.  89.  70. 129. 116. 105.\n",
      " 103. 133. 135. 132. 136. 107. 130.  98. 109.  99.  74. 113.  78. 100.\n",
      " 118.  75.]\n",
      "\n",
      "\n",
      "BODY MASS INDEX\n",
      "[21. 25. 20. 19. 24. 30. 23. 22. 28. 26. 29. 27.  0. nan]\n",
      "\n",
      "\n",
      "WEIGHT\n",
      "[ 58  65  72  88  77  89  50  84  86  52  85  87  99  53  71  97  68  93\n",
      "  81  80  91  49 100  79  95  82  74  96  57  90  92  94  83  70  73  78\n",
      "  75  76  45  51  47  98  48  69  54  62  46  66  59  67  64  60  55  56\n",
      "  63  61]\n",
      "\n",
      "\n",
      "HEREDITARY\n",
      "['YES' 'NO' nan]\n",
      "\n",
      "\n",
      "SMOKING/ALCOHOL\n",
      "['YES' 'NO' 0 nan]\n",
      "\n",
      "\n",
      "HbA1c\n",
      "[6.61985152 4.81659796 6.5108293  ... 5.37166229 5.76063078 4.83239181]\n",
      "\n",
      "\n",
      "TRIGLYCERIDE mg/dl mg/dl\n",
      "[221.96929864 145.69956377 215.50193511 ... 175.18348226 238.21065964\n",
      " 143.51726321]\n",
      "\n",
      "\n",
      "PHYSICAL EXERCISE\n",
      "['YES' 'NO']\n",
      "\n",
      "\n",
      "STEROID TREATMENT\n",
      "['NO' nan 'YES']\n",
      "\n",
      "\n",
      "gestational diabete women \n",
      "['NO' 'MACROSOMIC' 'PCOS' nan 5]\n",
      "\n",
      "\n",
      "CALORIE INTAKE\n",
      "['AROUND 2100' 'AROUND 3700' 'AROUND 2300' 'AROUND 3200' nan 'ABOVE 2900'\n",
      " 'AROUND 2700' 'AROUND 3100' 'AROUND 1800' 'ABOVE 4000' 'AROUND3000'\n",
      " 'AROUND 2000' 'AROUND 2500' 'AROUND 3500' 'AROUND 3000' 'AROUND 2800'\n",
      " 'AROUND 1900' 'AROUND 2200' 'ABOVE 3000' 'AROUND 3300' 'AROUND 1500']\n",
      "\n",
      "\n",
      "DIABETES\n",
      "['NO' 'YES' nan]\n",
      "\n",
      "\n"
     ]
    }
   ],
   "source": [
    "columns = data.columns.tolist()\n",
    "for i in columns:\n",
    "    print(i)\n",
    "    print(data[i].unique())\n",
    "    print('\\n')"
   ]
  },
  {
   "cell_type": "code",
   "execution_count": 10,
   "metadata": {},
   "outputs": [
    {
     "name": "stdout",
     "output_type": "stream",
     "text": [
      "[51709, 51756]\n"
     ]
    }
   ],
   "source": [
    "genderxtra = []\n",
    "genderxtra.append(data[data.GENDER=='ABC'].index.values.tolist()[0])\n",
    "genderxtra.append(data[data.GENDER=='AWE'].index.values.tolist()[0])\n",
    "print(genderxtra)"
   ]
  },
  {
   "cell_type": "code",
   "execution_count": 11,
   "metadata": {},
   "outputs": [],
   "source": [
    "data = data.drop(genderxtra)"
   ]
  },
  {
   "cell_type": "code",
   "execution_count": 17,
   "metadata": {},
   "outputs": [
    {
     "name": "stdout",
     "output_type": "stream",
     "text": [
      "[1500, 1800, 1900, 2000, 2100, 2200, 2300, 2500, 2700, 2800, 2900, 3000, 3000, 3000, 3100, 3200, 3300, 3500, 3700, 4000]\n",
      "['AROUND 2100', 'AROUND 3700', 'AROUND 2300', 'AROUND 3200', 'ABOVE 2900', 'AROUND 2700', 'AROUND 3100', 'AROUND 1800', 'ABOVE 4000', 'AROUND3000', 'AROUND 2000', 'AROUND 2500', 'AROUND 3500', 'AROUND 3000', 'AROUND 2800', 'AROUND 1900', 'AROUND 2200', 'ABOVE 3000', 'AROUND 3300', 'AROUND 1500']\n"
     ]
    },
    {
     "data": {
      "text/plain": [
       "{'AROUND 1500': 0,\n",
       " 'AROUND 1800': 1,\n",
       " 'AROUND 1900': 2,\n",
       " 'AROUND 2000': 3,\n",
       " 'AROUND 2100': 4,\n",
       " 'AROUND 2200': 5,\n",
       " 'AROUND 2300': 6,\n",
       " 'AROUND 2500': 7,\n",
       " 'AROUND 2700': 8,\n",
       " 'AROUND 2800': 9,\n",
       " 'ABOVE 2900': 10,\n",
       " 'AROUND3000': 13,\n",
       " 'AROUND 3000': 13,\n",
       " 'ABOVE 3000': 13,\n",
       " 'AROUND 3100': 14,\n",
       " 'AROUND 3200': 15,\n",
       " 'AROUND 3300': 16,\n",
       " 'AROUND 3500': 17,\n",
       " 'AROUND 3700': 18,\n",
       " 'ABOVE 4000': 19}"
      ]
     },
     "execution_count": 17,
     "metadata": {},
     "output_type": "execute_result"
    }
   ],
   "source": [
    "x = [str(i) for i in data['CALORIE INTAKE'].unique().tolist()]\n",
    "x = [i for i in x if i != 'nan']\n",
    "y = sorted([int(i[-4:]) for i in x])\n",
    "CI_e = {}\n",
    "print(y)\n",
    "print(x)\n",
    "for k,i in enumerate(y):\n",
    "    for j in x:\n",
    "        if i==int(j[-4:]):\n",
    "            CI_e[j]=k\n",
    "            \n",
    "CI_e"
   ]
  },
  {
   "cell_type": "code",
   "execution_count": 20,
   "metadata": {},
   "outputs": [],
   "source": [
    " "
   ]
  },
  {
   "cell_type": "code",
   "execution_count": 21,
   "metadata": {},
   "outputs": [],
   "source": [
    "data['AGE'] = data.AGE.replace(AGE_e)\n",
    "data['GENDER'] = data.GENDER.replace(GENDER_e)\n",
    "data['HEREDITARY'] = data.HEREDITARY.replace(YN_e)\n",
    "data['SMOKING/ALCOHOL'] = data['SMOKING/ALCOHOL'].replace(YN_e)\n",
    "data['PHYSICAL EXERCISE'] = data['PHYSICAL EXERCISE'].replace(YN_e)\n",
    "data['STEROID TREATMENT'] = data['STEROID TREATMENT'].replace(YN_e)\n",
    "data['gestational diabete women '] = data['gestational diabete women '].replace(GES_e)\n",
    "data['DIABETES'] = data.DIABETES.replace(YN_e)\n",
    "data['CALORIE INTAKE'] = data['CALORIE INTAKE'].replace(CI_e)"
   ]
  },
  {
   "cell_type": "code",
   "execution_count": 15,
   "metadata": {},
   "outputs": [
    {
     "data": {
      "text/html": [
       "<div>\n",
       "<style scoped>\n",
       "    .dataframe tbody tr th:only-of-type {\n",
       "        vertical-align: middle;\n",
       "    }\n",
       "\n",
       "    .dataframe tbody tr th {\n",
       "        vertical-align: top;\n",
       "    }\n",
       "\n",
       "    .dataframe thead th {\n",
       "        text-align: right;\n",
       "    }\n",
       "</style>\n",
       "<table border=\"1\" class=\"dataframe\">\n",
       "  <thead>\n",
       "    <tr style=\"text-align: right;\">\n",
       "      <th></th>\n",
       "      <th>PATIENT ID</th>\n",
       "      <th>AGE</th>\n",
       "      <th>GENDER</th>\n",
       "      <th>GLUCOSE</th>\n",
       "      <th>INSULIN miU/L</th>\n",
       "      <th>BLOOD PRESSURE</th>\n",
       "      <th>BODY MASS INDEX</th>\n",
       "      <th>WEIGHT</th>\n",
       "      <th>HEREDITARY</th>\n",
       "      <th>SMOKING/ALCOHOL</th>\n",
       "      <th>HbA1c</th>\n",
       "      <th>TRIGLYCERIDE mg/dl mg/dl</th>\n",
       "      <th>PHYSICAL EXERCISE</th>\n",
       "      <th>STEROID TREATMENT</th>\n",
       "      <th>gestational diabete women</th>\n",
       "      <th>CALORIE INTAKE</th>\n",
       "      <th>DIABETES</th>\n",
       "    </tr>\n",
       "  </thead>\n",
       "  <tbody>\n",
       "    <tr>\n",
       "      <td>0</td>\n",
       "      <td>PDM0001</td>\n",
       "      <td>4.0</td>\n",
       "      <td>0</td>\n",
       "      <td>98</td>\n",
       "      <td>25</td>\n",
       "      <td>80.0</td>\n",
       "      <td>21.0</td>\n",
       "      <td>58</td>\n",
       "      <td>1.0</td>\n",
       "      <td>1.0</td>\n",
       "      <td>6.619852</td>\n",
       "      <td>221.969299</td>\n",
       "      <td>1</td>\n",
       "      <td>0.0</td>\n",
       "      <td>0.0</td>\n",
       "      <td>4.0</td>\n",
       "      <td>0.0</td>\n",
       "    </tr>\n",
       "    <tr>\n",
       "      <td>1</td>\n",
       "      <td>PDM0002</td>\n",
       "      <td>3.0</td>\n",
       "      <td>0</td>\n",
       "      <td>67</td>\n",
       "      <td>18</td>\n",
       "      <td>124.0</td>\n",
       "      <td>21.0</td>\n",
       "      <td>65</td>\n",
       "      <td>0.0</td>\n",
       "      <td>0.0</td>\n",
       "      <td>4.816598</td>\n",
       "      <td>145.699564</td>\n",
       "      <td>0</td>\n",
       "      <td>0.0</td>\n",
       "      <td>0.0</td>\n",
       "      <td>4.0</td>\n",
       "      <td>0.0</td>\n",
       "    </tr>\n",
       "    <tr>\n",
       "      <td>2</td>\n",
       "      <td>PDM0003</td>\n",
       "      <td>3.0</td>\n",
       "      <td>1</td>\n",
       "      <td>110</td>\n",
       "      <td>24</td>\n",
       "      <td>83.0</td>\n",
       "      <td>25.0</td>\n",
       "      <td>72</td>\n",
       "      <td>1.0</td>\n",
       "      <td>0.0</td>\n",
       "      <td>6.510829</td>\n",
       "      <td>215.501935</td>\n",
       "      <td>1</td>\n",
       "      <td>0.0</td>\n",
       "      <td>0.0</td>\n",
       "      <td>18.0</td>\n",
       "      <td>1.0</td>\n",
       "    </tr>\n",
       "    <tr>\n",
       "      <td>3</td>\n",
       "      <td>PDM0004</td>\n",
       "      <td>2.0</td>\n",
       "      <td>1</td>\n",
       "      <td>116</td>\n",
       "      <td>25</td>\n",
       "      <td>125.0</td>\n",
       "      <td>25.0</td>\n",
       "      <td>88</td>\n",
       "      <td>1.0</td>\n",
       "      <td>0.0</td>\n",
       "      <td>6.411004</td>\n",
       "      <td>190.124765</td>\n",
       "      <td>0</td>\n",
       "      <td>0.0</td>\n",
       "      <td>0.0</td>\n",
       "      <td>18.0</td>\n",
       "      <td>0.0</td>\n",
       "    </tr>\n",
       "    <tr>\n",
       "      <td>4</td>\n",
       "      <td>PDM0005</td>\n",
       "      <td>4.0</td>\n",
       "      <td>1</td>\n",
       "      <td>74</td>\n",
       "      <td>15</td>\n",
       "      <td>87.0</td>\n",
       "      <td>20.0</td>\n",
       "      <td>77</td>\n",
       "      <td>1.0</td>\n",
       "      <td>1.0</td>\n",
       "      <td>5.135397</td>\n",
       "      <td>178.866059</td>\n",
       "      <td>0</td>\n",
       "      <td>0.0</td>\n",
       "      <td>0.0</td>\n",
       "      <td>6.0</td>\n",
       "      <td>1.0</td>\n",
       "    </tr>\n",
       "  </tbody>\n",
       "</table>\n",
       "</div>"
      ],
      "text/plain": [
       "  PATIENT ID  AGE  GENDER  GLUCOSE  INSULIN miU/L  BLOOD PRESSURE  \\\n",
       "0    PDM0001  4.0       0       98             25            80.0   \n",
       "1    PDM0002  3.0       0       67             18           124.0   \n",
       "2    PDM0003  3.0       1      110             24            83.0   \n",
       "3    PDM0004  2.0       1      116             25           125.0   \n",
       "4    PDM0005  4.0       1       74             15            87.0   \n",
       "\n",
       "   BODY MASS INDEX  WEIGHT  HEREDITARY  SMOKING/ALCOHOL     HbA1c  \\\n",
       "0             21.0      58         1.0              1.0  6.619852   \n",
       "1             21.0      65         0.0              0.0  4.816598   \n",
       "2             25.0      72         1.0              0.0  6.510829   \n",
       "3             25.0      88         1.0              0.0  6.411004   \n",
       "4             20.0      77         1.0              1.0  5.135397   \n",
       "\n",
       "   TRIGLYCERIDE mg/dl mg/dl  PHYSICAL EXERCISE  STEROID TREATMENT  \\\n",
       "0                221.969299                  1                0.0   \n",
       "1                145.699564                  0                0.0   \n",
       "2                215.501935                  1                0.0   \n",
       "3                190.124765                  0                0.0   \n",
       "4                178.866059                  0                0.0   \n",
       "\n",
       "   gestational diabete women   CALORIE INTAKE  DIABETES  \n",
       "0                         0.0             4.0       0.0  \n",
       "1                         0.0             4.0       0.0  \n",
       "2                         0.0            18.0       1.0  \n",
       "3                         0.0            18.0       0.0  \n",
       "4                         0.0             6.0       1.0  "
      ]
     },
     "execution_count": 15,
     "metadata": {},
     "output_type": "execute_result"
    }
   ],
   "source": [
    "data.head()"
   ]
  },
  {
   "cell_type": "code",
   "execution_count": 16,
   "metadata": {},
   "outputs": [
    {
     "data": {
      "text/plain": [
       "PATIENT ID                        0\n",
       "AGE                               1\n",
       "GENDER                            0\n",
       "GLUCOSE                           0\n",
       "INSULIN miU/L                     0\n",
       "BLOOD PRESSURE                    3\n",
       "BODY MASS INDEX                   5\n",
       "WEIGHT                            0\n",
       "HEREDITARY                       12\n",
       "SMOKING/ALCOHOL                  11\n",
       "HbA1c                             8\n",
       "TRIGLYCERIDE mg/dl mg/dl         32\n",
       "PHYSICAL EXERCISE                 0\n",
       "STEROID TREATMENT             25548\n",
       "gestational diabete women        17\n",
       "CALORIE INTAKE                20057\n",
       "DIABETES                       5164\n",
       "dtype: int64"
      ]
     },
     "execution_count": 16,
     "metadata": {},
     "output_type": "execute_result"
    }
   ],
   "source": [
    "data.isnull().sum()"
   ]
  },
  {
   "cell_type": "code",
   "execution_count": 22,
   "metadata": {},
   "outputs": [
    {
     "name": "stdout",
     "output_type": "stream",
     "text": [
      "[[15], [63, 130609, 130641], [43992, 43993, 43994, 43995, 43996], [97048, 97049, 97050, 97051, 97052, 134687, 134725, 134742, 177772, 177773, 177774, 177775], [63942, 63947, 63948, 78000, 78001, 78002, 78003, 113379, 113380, 113381, 113382], [102870, 102871, 102872, 102873, 102874, 102875, 102876, 130641], [10, 63, 120, 201, 22680, 22716, 22765, 22795, 22796, 22797, 22798, 22972, 23092, 23093, 23094, 23095, 23096, 23453, 23454, 23455, 23550, 23551, 23552, 63038, 63040, 63041, 63042, 102871, 102872, 102873, 130608, 130609], [15, 102873, 102874, 102875, 102876, 102877, 102878, 102879, 102880, 102881, 102882, 102883, 102884, 102885, 102886, 102887, 102946]]\n"
     ]
    }
   ],
   "source": [
    "droplst = []\n",
    "droplst.append(data[data.AGE.isnull()].index.values.tolist())\n",
    "droplst.append(data[data['BLOOD PRESSURE'].isnull()].index.values.tolist())\n",
    "droplst.append(data[data['BODY MASS INDEX'].isnull()].index.values.tolist())\n",
    "droplst.append(data[data['HEREDITARY'].isnull()].index.values.tolist())\n",
    "droplst.append(data[data['SMOKING/ALCOHOL'].isnull()].index.values.tolist())\n",
    "droplst.append(data[data['HbA1c'].isnull()].index.values.tolist())\n",
    "droplst.append(data[data['TRIGLYCERIDE mg/dl mg/dl'].isnull()].index.values.tolist())\n",
    "droplst.append(data[data['gestational diabete women '].isnull()].index.values.tolist())\n",
    "print(droplst)"
   ]
  },
  {
   "cell_type": "code",
   "execution_count": 23,
   "metadata": {},
   "outputs": [],
   "source": [
    "drop = []\n",
    "for i in droplst:\n",
    "    for j in i:\n",
    "        drop.append(j)\n",
    "data = data.drop(drop)"
   ]
  },
  {
   "cell_type": "code",
   "execution_count": 25,
   "metadata": {},
   "outputs": [
    {
     "data": {
      "text/html": [
       "<div>\n",
       "<style scoped>\n",
       "    .dataframe tbody tr th:only-of-type {\n",
       "        vertical-align: middle;\n",
       "    }\n",
       "\n",
       "    .dataframe tbody tr th {\n",
       "        vertical-align: top;\n",
       "    }\n",
       "\n",
       "    .dataframe thead th {\n",
       "        text-align: right;\n",
       "    }\n",
       "</style>\n",
       "<table border=\"1\" class=\"dataframe\">\n",
       "  <thead>\n",
       "    <tr style=\"text-align: right;\">\n",
       "      <th></th>\n",
       "      <th>PATIENT ID</th>\n",
       "      <th>AGE</th>\n",
       "      <th>GENDER</th>\n",
       "      <th>GLUCOSE</th>\n",
       "      <th>INSULIN miU/L</th>\n",
       "      <th>BLOOD PRESSURE</th>\n",
       "      <th>BODY MASS INDEX</th>\n",
       "      <th>WEIGHT</th>\n",
       "      <th>HEREDITARY</th>\n",
       "      <th>SMOKING/ALCOHOL</th>\n",
       "      <th>HbA1c</th>\n",
       "      <th>TRIGLYCERIDE mg/dl mg/dl</th>\n",
       "      <th>PHYSICAL EXERCISE</th>\n",
       "      <th>STEROID TREATMENT</th>\n",
       "      <th>gestational diabete women</th>\n",
       "      <th>CALORIE INTAKE</th>\n",
       "      <th>DIABETES</th>\n",
       "    </tr>\n",
       "  </thead>\n",
       "  <tbody>\n",
       "    <tr>\n",
       "      <td>0</td>\n",
       "      <td>PDM0001</td>\n",
       "      <td>4.0</td>\n",
       "      <td>0</td>\n",
       "      <td>98</td>\n",
       "      <td>25</td>\n",
       "      <td>80.0</td>\n",
       "      <td>21.0</td>\n",
       "      <td>58</td>\n",
       "      <td>1.0</td>\n",
       "      <td>1.0</td>\n",
       "      <td>6.619852</td>\n",
       "      <td>221.969299</td>\n",
       "      <td>1</td>\n",
       "      <td>0.0</td>\n",
       "      <td>0.0</td>\n",
       "      <td>4.0</td>\n",
       "      <td>0.0</td>\n",
       "    </tr>\n",
       "    <tr>\n",
       "      <td>1</td>\n",
       "      <td>PDM0002</td>\n",
       "      <td>3.0</td>\n",
       "      <td>0</td>\n",
       "      <td>67</td>\n",
       "      <td>18</td>\n",
       "      <td>124.0</td>\n",
       "      <td>21.0</td>\n",
       "      <td>65</td>\n",
       "      <td>0.0</td>\n",
       "      <td>0.0</td>\n",
       "      <td>4.816598</td>\n",
       "      <td>145.699564</td>\n",
       "      <td>0</td>\n",
       "      <td>0.0</td>\n",
       "      <td>0.0</td>\n",
       "      <td>4.0</td>\n",
       "      <td>0.0</td>\n",
       "    </tr>\n",
       "    <tr>\n",
       "      <td>2</td>\n",
       "      <td>PDM0003</td>\n",
       "      <td>3.0</td>\n",
       "      <td>1</td>\n",
       "      <td>110</td>\n",
       "      <td>24</td>\n",
       "      <td>83.0</td>\n",
       "      <td>25.0</td>\n",
       "      <td>72</td>\n",
       "      <td>1.0</td>\n",
       "      <td>0.0</td>\n",
       "      <td>6.510829</td>\n",
       "      <td>215.501935</td>\n",
       "      <td>1</td>\n",
       "      <td>0.0</td>\n",
       "      <td>0.0</td>\n",
       "      <td>18.0</td>\n",
       "      <td>1.0</td>\n",
       "    </tr>\n",
       "    <tr>\n",
       "      <td>3</td>\n",
       "      <td>PDM0004</td>\n",
       "      <td>2.0</td>\n",
       "      <td>1</td>\n",
       "      <td>116</td>\n",
       "      <td>25</td>\n",
       "      <td>125.0</td>\n",
       "      <td>25.0</td>\n",
       "      <td>88</td>\n",
       "      <td>1.0</td>\n",
       "      <td>0.0</td>\n",
       "      <td>6.411004</td>\n",
       "      <td>190.124765</td>\n",
       "      <td>0</td>\n",
       "      <td>0.0</td>\n",
       "      <td>0.0</td>\n",
       "      <td>18.0</td>\n",
       "      <td>0.0</td>\n",
       "    </tr>\n",
       "    <tr>\n",
       "      <td>4</td>\n",
       "      <td>PDM0005</td>\n",
       "      <td>4.0</td>\n",
       "      <td>1</td>\n",
       "      <td>74</td>\n",
       "      <td>15</td>\n",
       "      <td>87.0</td>\n",
       "      <td>20.0</td>\n",
       "      <td>77</td>\n",
       "      <td>1.0</td>\n",
       "      <td>1.0</td>\n",
       "      <td>5.135397</td>\n",
       "      <td>178.866059</td>\n",
       "      <td>0</td>\n",
       "      <td>0.0</td>\n",
       "      <td>0.0</td>\n",
       "      <td>6.0</td>\n",
       "      <td>1.0</td>\n",
       "    </tr>\n",
       "    <tr>\n",
       "      <td>...</td>\n",
       "      <td>...</td>\n",
       "      <td>...</td>\n",
       "      <td>...</td>\n",
       "      <td>...</td>\n",
       "      <td>...</td>\n",
       "      <td>...</td>\n",
       "      <td>...</td>\n",
       "      <td>...</td>\n",
       "      <td>...</td>\n",
       "      <td>...</td>\n",
       "      <td>...</td>\n",
       "      <td>...</td>\n",
       "      <td>...</td>\n",
       "      <td>...</td>\n",
       "      <td>...</td>\n",
       "      <td>...</td>\n",
       "      <td>...</td>\n",
       "    </tr>\n",
       "    <tr>\n",
       "      <td>199994</td>\n",
       "      <td>PDM199995</td>\n",
       "      <td>2.0</td>\n",
       "      <td>1</td>\n",
       "      <td>84</td>\n",
       "      <td>23</td>\n",
       "      <td>94.0</td>\n",
       "      <td>21.0</td>\n",
       "      <td>56</td>\n",
       "      <td>0.0</td>\n",
       "      <td>1.0</td>\n",
       "      <td>5.132229</td>\n",
       "      <td>158.336968</td>\n",
       "      <td>1</td>\n",
       "      <td>NaN</td>\n",
       "      <td>0.0</td>\n",
       "      <td>7.0</td>\n",
       "      <td>0.0</td>\n",
       "    </tr>\n",
       "    <tr>\n",
       "      <td>199995</td>\n",
       "      <td>PDM199996</td>\n",
       "      <td>4.0</td>\n",
       "      <td>0</td>\n",
       "      <td>104</td>\n",
       "      <td>29</td>\n",
       "      <td>78.0</td>\n",
       "      <td>26.0</td>\n",
       "      <td>94</td>\n",
       "      <td>1.0</td>\n",
       "      <td>1.0</td>\n",
       "      <td>5.684273</td>\n",
       "      <td>288.697612</td>\n",
       "      <td>1</td>\n",
       "      <td>0.0</td>\n",
       "      <td>0.0</td>\n",
       "      <td>13.0</td>\n",
       "      <td>0.0</td>\n",
       "    </tr>\n",
       "    <tr>\n",
       "      <td>199996</td>\n",
       "      <td>PDM199997</td>\n",
       "      <td>2.0</td>\n",
       "      <td>0</td>\n",
       "      <td>77</td>\n",
       "      <td>24</td>\n",
       "      <td>113.0</td>\n",
       "      <td>19.0</td>\n",
       "      <td>65</td>\n",
       "      <td>1.0</td>\n",
       "      <td>0.0</td>\n",
       "      <td>5.371662</td>\n",
       "      <td>175.183482</td>\n",
       "      <td>1</td>\n",
       "      <td>0.0</td>\n",
       "      <td>0.0</td>\n",
       "      <td>4.0</td>\n",
       "      <td>0.0</td>\n",
       "    </tr>\n",
       "    <tr>\n",
       "      <td>199997</td>\n",
       "      <td>PDM199998</td>\n",
       "      <td>4.0</td>\n",
       "      <td>0</td>\n",
       "      <td>100</td>\n",
       "      <td>25</td>\n",
       "      <td>86.0</td>\n",
       "      <td>26.0</td>\n",
       "      <td>99</td>\n",
       "      <td>1.0</td>\n",
       "      <td>1.0</td>\n",
       "      <td>5.760631</td>\n",
       "      <td>238.210660</td>\n",
       "      <td>0</td>\n",
       "      <td>0.0</td>\n",
       "      <td>0.0</td>\n",
       "      <td>13.0</td>\n",
       "      <td>1.0</td>\n",
       "    </tr>\n",
       "    <tr>\n",
       "      <td>199998</td>\n",
       "      <td>PDM199999</td>\n",
       "      <td>2.0</td>\n",
       "      <td>1</td>\n",
       "      <td>91</td>\n",
       "      <td>17</td>\n",
       "      <td>73.0</td>\n",
       "      <td>23.0</td>\n",
       "      <td>96</td>\n",
       "      <td>1.0</td>\n",
       "      <td>0.0</td>\n",
       "      <td>4.832392</td>\n",
       "      <td>143.517263</td>\n",
       "      <td>1</td>\n",
       "      <td>0.0</td>\n",
       "      <td>0.0</td>\n",
       "      <td>13.0</td>\n",
       "      <td>0.0</td>\n",
       "    </tr>\n",
       "  </tbody>\n",
       "</table>\n",
       "<p>199919 rows × 17 columns</p>\n",
       "</div>"
      ],
      "text/plain": [
       "       PATIENT ID  AGE  GENDER  GLUCOSE  INSULIN miU/L  BLOOD PRESSURE  \\\n",
       "0         PDM0001  4.0       0       98             25            80.0   \n",
       "1         PDM0002  3.0       0       67             18           124.0   \n",
       "2         PDM0003  3.0       1      110             24            83.0   \n",
       "3         PDM0004  2.0       1      116             25           125.0   \n",
       "4         PDM0005  4.0       1       74             15            87.0   \n",
       "...           ...  ...     ...      ...            ...             ...   \n",
       "199994  PDM199995  2.0       1       84             23            94.0   \n",
       "199995  PDM199996  4.0       0      104             29            78.0   \n",
       "199996  PDM199997  2.0       0       77             24           113.0   \n",
       "199997  PDM199998  4.0       0      100             25            86.0   \n",
       "199998  PDM199999  2.0       1       91             17            73.0   \n",
       "\n",
       "        BODY MASS INDEX  WEIGHT  HEREDITARY  SMOKING/ALCOHOL     HbA1c  \\\n",
       "0                  21.0      58         1.0              1.0  6.619852   \n",
       "1                  21.0      65         0.0              0.0  4.816598   \n",
       "2                  25.0      72         1.0              0.0  6.510829   \n",
       "3                  25.0      88         1.0              0.0  6.411004   \n",
       "4                  20.0      77         1.0              1.0  5.135397   \n",
       "...                 ...     ...         ...              ...       ...   \n",
       "199994             21.0      56         0.0              1.0  5.132229   \n",
       "199995             26.0      94         1.0              1.0  5.684273   \n",
       "199996             19.0      65         1.0              0.0  5.371662   \n",
       "199997             26.0      99         1.0              1.0  5.760631   \n",
       "199998             23.0      96         1.0              0.0  4.832392   \n",
       "\n",
       "        TRIGLYCERIDE mg/dl mg/dl  PHYSICAL EXERCISE  STEROID TREATMENT  \\\n",
       "0                     221.969299                  1                0.0   \n",
       "1                     145.699564                  0                0.0   \n",
       "2                     215.501935                  1                0.0   \n",
       "3                     190.124765                  0                0.0   \n",
       "4                     178.866059                  0                0.0   \n",
       "...                          ...                ...                ...   \n",
       "199994                158.336968                  1                NaN   \n",
       "199995                288.697612                  1                0.0   \n",
       "199996                175.183482                  1                0.0   \n",
       "199997                238.210660                  0                0.0   \n",
       "199998                143.517263                  1                0.0   \n",
       "\n",
       "        gestational diabete women   CALORIE INTAKE  DIABETES  \n",
       "0                              0.0             4.0       0.0  \n",
       "1                              0.0             4.0       0.0  \n",
       "2                              0.0            18.0       1.0  \n",
       "3                              0.0            18.0       0.0  \n",
       "4                              0.0             6.0       1.0  \n",
       "...                            ...             ...       ...  \n",
       "199994                         0.0             7.0       0.0  \n",
       "199995                         0.0            13.0       0.0  \n",
       "199996                         0.0             4.0       0.0  \n",
       "199997                         0.0            13.0       1.0  \n",
       "199998                         0.0            13.0       0.0  \n",
       "\n",
       "[199919 rows x 17 columns]"
      ]
     },
     "execution_count": 25,
     "metadata": {},
     "output_type": "execute_result"
    }
   ],
   "source": [
    "data"
   ]
  },
  {
   "cell_type": "code",
   "execution_count": 19,
   "metadata": {},
   "outputs": [
    {
     "data": {
      "text/plain": [
       "PATIENT ID                        0\n",
       "AGE                               0\n",
       "GENDER                            0\n",
       "GLUCOSE                           0\n",
       "INSULIN miU/L                     0\n",
       "BLOOD PRESSURE                    0\n",
       "BODY MASS INDEX                   0\n",
       "WEIGHT                            0\n",
       "HEREDITARY                        0\n",
       "SMOKING/ALCOHOL                   0\n",
       "HbA1c                             0\n",
       "TRIGLYCERIDE mg/dl mg/dl          0\n",
       "PHYSICAL EXERCISE                 0\n",
       "STEROID TREATMENT             25544\n",
       "gestational diabete women         0\n",
       "CALORIE INTAKE                20045\n",
       "DIABETES                       5163\n",
       "dtype: int64"
      ]
     },
     "execution_count": 19,
     "metadata": {},
     "output_type": "execute_result"
    }
   ],
   "source": [
    "data.isnull().sum()"
   ]
  },
  {
   "cell_type": "code",
   "execution_count": 26,
   "metadata": {},
   "outputs": [],
   "source": [
    "data = data.drop(columns=['PATIENT ID'])"
   ]
  },
  {
   "cell_type": "code",
   "execution_count": 28,
   "metadata": {},
   "outputs": [
    {
     "data": {
      "text/plain": [
       "0         False\n",
       "1         False\n",
       "2         False\n",
       "3         False\n",
       "4         False\n",
       "          ...  \n",
       "199994    False\n",
       "199995    False\n",
       "199996    False\n",
       "199997    False\n",
       "199998    False\n",
       "Name: DIABETES, Length: 199919, dtype: bool"
      ]
     },
     "execution_count": 28,
     "metadata": {},
     "output_type": "execute_result"
    }
   ],
   "source": [
    "data.DIABETES.isnull()"
   ]
  },
  {
   "cell_type": "code",
   "execution_count": 27,
   "metadata": {
    "scrolled": true
   },
   "outputs": [],
   "source": [
    "Fdata = data[~data.DIABETES.isnull()]\n",
    "Fdata4test = data[data.DIABETES.isnull()]"
   ]
  },
  {
   "cell_type": "code",
   "execution_count": 22,
   "metadata": {},
   "outputs": [
    {
     "data": {
      "text/plain": [
       "AGE                               0\n",
       "GENDER                            0\n",
       "GLUCOSE                           0\n",
       "INSULIN miU/L                     0\n",
       "BLOOD PRESSURE                    0\n",
       "BODY MASS INDEX                   0\n",
       "WEIGHT                            0\n",
       "HEREDITARY                        0\n",
       "SMOKING/ALCOHOL                   0\n",
       "HbA1c                             0\n",
       "TRIGLYCERIDE mg/dl mg/dl          0\n",
       "PHYSICAL EXERCISE                 0\n",
       "STEROID TREATMENT             25025\n",
       "gestational diabete women         0\n",
       "CALORIE INTAKE                19562\n",
       "DIABETES                          0\n",
       "dtype: int64"
      ]
     },
     "execution_count": 22,
     "metadata": {},
     "output_type": "execute_result"
    }
   ],
   "source": [
    "Fdata.isnull().sum()"
   ]
  },
  {
   "cell_type": "code",
   "execution_count": 23,
   "metadata": {},
   "outputs": [],
   "source": [
    "Spredict = Fdata.drop(columns=['CALORIE INTAKE'])"
   ]
  },
  {
   "cell_type": "code",
   "execution_count": 24,
   "metadata": {},
   "outputs": [
    {
     "data": {
      "text/plain": [
       "AGE                               0\n",
       "GENDER                            0\n",
       "GLUCOSE                           0\n",
       "INSULIN miU/L                     0\n",
       "BLOOD PRESSURE                    0\n",
       "BODY MASS INDEX                   0\n",
       "WEIGHT                            0\n",
       "HEREDITARY                        0\n",
       "SMOKING/ALCOHOL                   0\n",
       "HbA1c                             0\n",
       "TRIGLYCERIDE mg/dl mg/dl          0\n",
       "PHYSICAL EXERCISE                 0\n",
       "STEROID TREATMENT             25025\n",
       "gestational diabete women         0\n",
       "DIABETES                          0\n",
       "dtype: int64"
      ]
     },
     "execution_count": 24,
     "metadata": {},
     "output_type": "execute_result"
    }
   ],
   "source": [
    "Spredict.isnull().sum()"
   ]
  },
  {
   "cell_type": "code",
   "execution_count": 25,
   "metadata": {},
   "outputs": [],
   "source": [
    "Spredict4tes = Spredict[Spredict['STEROID TREATMENT'].isnull()]\n",
    "Spredict4train = Spredict[~Spredict['STEROID TREATMENT'].isnull()]\n",
    "Spredict4test = Spredict4tes.drop(columns=['STEROID TREATMENT'])"
   ]
  },
  {
   "cell_type": "code",
   "execution_count": 26,
   "metadata": {},
   "outputs": [
    {
     "name": "stdout",
     "output_type": "stream",
     "text": [
      "(25025, 14)\n"
     ]
    },
    {
     "data": {
      "text/html": [
       "<div>\n",
       "<style scoped>\n",
       "    .dataframe tbody tr th:only-of-type {\n",
       "        vertical-align: middle;\n",
       "    }\n",
       "\n",
       "    .dataframe tbody tr th {\n",
       "        vertical-align: top;\n",
       "    }\n",
       "\n",
       "    .dataframe thead th {\n",
       "        text-align: right;\n",
       "    }\n",
       "</style>\n",
       "<table border=\"1\" class=\"dataframe\">\n",
       "  <thead>\n",
       "    <tr style=\"text-align: right;\">\n",
       "      <th></th>\n",
       "      <th>AGE</th>\n",
       "      <th>GENDER</th>\n",
       "      <th>GLUCOSE</th>\n",
       "      <th>INSULIN miU/L</th>\n",
       "      <th>BLOOD PRESSURE</th>\n",
       "      <th>BODY MASS INDEX</th>\n",
       "      <th>WEIGHT</th>\n",
       "      <th>HEREDITARY</th>\n",
       "      <th>SMOKING/ALCOHOL</th>\n",
       "      <th>HbA1c</th>\n",
       "      <th>TRIGLYCERIDE mg/dl mg/dl</th>\n",
       "      <th>PHYSICAL EXERCISE</th>\n",
       "      <th>STEROID TREATMENT</th>\n",
       "      <th>gestational diabete women</th>\n",
       "      <th>DIABETES</th>\n",
       "    </tr>\n",
       "  </thead>\n",
       "  <tbody>\n",
       "    <tr>\n",
       "      <td>0</td>\n",
       "      <td>4.0</td>\n",
       "      <td>0</td>\n",
       "      <td>98</td>\n",
       "      <td>25</td>\n",
       "      <td>80.0</td>\n",
       "      <td>21.0</td>\n",
       "      <td>58</td>\n",
       "      <td>1.0</td>\n",
       "      <td>1.0</td>\n",
       "      <td>6.619852</td>\n",
       "      <td>221.969299</td>\n",
       "      <td>1</td>\n",
       "      <td>0.0</td>\n",
       "      <td>0.0</td>\n",
       "      <td>0.0</td>\n",
       "    </tr>\n",
       "    <tr>\n",
       "      <td>1</td>\n",
       "      <td>3.0</td>\n",
       "      <td>0</td>\n",
       "      <td>67</td>\n",
       "      <td>18</td>\n",
       "      <td>124.0</td>\n",
       "      <td>21.0</td>\n",
       "      <td>65</td>\n",
       "      <td>0.0</td>\n",
       "      <td>0.0</td>\n",
       "      <td>4.816598</td>\n",
       "      <td>145.699564</td>\n",
       "      <td>0</td>\n",
       "      <td>0.0</td>\n",
       "      <td>0.0</td>\n",
       "      <td>0.0</td>\n",
       "    </tr>\n",
       "    <tr>\n",
       "      <td>2</td>\n",
       "      <td>3.0</td>\n",
       "      <td>1</td>\n",
       "      <td>110</td>\n",
       "      <td>24</td>\n",
       "      <td>83.0</td>\n",
       "      <td>25.0</td>\n",
       "      <td>72</td>\n",
       "      <td>1.0</td>\n",
       "      <td>0.0</td>\n",
       "      <td>6.510829</td>\n",
       "      <td>215.501935</td>\n",
       "      <td>1</td>\n",
       "      <td>0.0</td>\n",
       "      <td>0.0</td>\n",
       "      <td>1.0</td>\n",
       "    </tr>\n",
       "    <tr>\n",
       "      <td>3</td>\n",
       "      <td>2.0</td>\n",
       "      <td>1</td>\n",
       "      <td>116</td>\n",
       "      <td>25</td>\n",
       "      <td>125.0</td>\n",
       "      <td>25.0</td>\n",
       "      <td>88</td>\n",
       "      <td>1.0</td>\n",
       "      <td>0.0</td>\n",
       "      <td>6.411004</td>\n",
       "      <td>190.124765</td>\n",
       "      <td>0</td>\n",
       "      <td>0.0</td>\n",
       "      <td>0.0</td>\n",
       "      <td>0.0</td>\n",
       "    </tr>\n",
       "    <tr>\n",
       "      <td>4</td>\n",
       "      <td>4.0</td>\n",
       "      <td>1</td>\n",
       "      <td>74</td>\n",
       "      <td>15</td>\n",
       "      <td>87.0</td>\n",
       "      <td>20.0</td>\n",
       "      <td>77</td>\n",
       "      <td>1.0</td>\n",
       "      <td>1.0</td>\n",
       "      <td>5.135397</td>\n",
       "      <td>178.866059</td>\n",
       "      <td>0</td>\n",
       "      <td>0.0</td>\n",
       "      <td>0.0</td>\n",
       "      <td>1.0</td>\n",
       "    </tr>\n",
       "    <tr>\n",
       "      <td>...</td>\n",
       "      <td>...</td>\n",
       "      <td>...</td>\n",
       "      <td>...</td>\n",
       "      <td>...</td>\n",
       "      <td>...</td>\n",
       "      <td>...</td>\n",
       "      <td>...</td>\n",
       "      <td>...</td>\n",
       "      <td>...</td>\n",
       "      <td>...</td>\n",
       "      <td>...</td>\n",
       "      <td>...</td>\n",
       "      <td>...</td>\n",
       "      <td>...</td>\n",
       "      <td>...</td>\n",
       "    </tr>\n",
       "    <tr>\n",
       "      <td>199993</td>\n",
       "      <td>4.0</td>\n",
       "      <td>1</td>\n",
       "      <td>93</td>\n",
       "      <td>18</td>\n",
       "      <td>104.0</td>\n",
       "      <td>23.0</td>\n",
       "      <td>98</td>\n",
       "      <td>0.0</td>\n",
       "      <td>0.0</td>\n",
       "      <td>4.771436</td>\n",
       "      <td>138.382881</td>\n",
       "      <td>0</td>\n",
       "      <td>0.0</td>\n",
       "      <td>3.0</td>\n",
       "      <td>0.0</td>\n",
       "    </tr>\n",
       "    <tr>\n",
       "      <td>199995</td>\n",
       "      <td>4.0</td>\n",
       "      <td>0</td>\n",
       "      <td>104</td>\n",
       "      <td>29</td>\n",
       "      <td>78.0</td>\n",
       "      <td>26.0</td>\n",
       "      <td>94</td>\n",
       "      <td>1.0</td>\n",
       "      <td>1.0</td>\n",
       "      <td>5.684273</td>\n",
       "      <td>288.697612</td>\n",
       "      <td>1</td>\n",
       "      <td>0.0</td>\n",
       "      <td>0.0</td>\n",
       "      <td>0.0</td>\n",
       "    </tr>\n",
       "    <tr>\n",
       "      <td>199996</td>\n",
       "      <td>2.0</td>\n",
       "      <td>0</td>\n",
       "      <td>77</td>\n",
       "      <td>24</td>\n",
       "      <td>113.0</td>\n",
       "      <td>19.0</td>\n",
       "      <td>65</td>\n",
       "      <td>1.0</td>\n",
       "      <td>0.0</td>\n",
       "      <td>5.371662</td>\n",
       "      <td>175.183482</td>\n",
       "      <td>1</td>\n",
       "      <td>0.0</td>\n",
       "      <td>0.0</td>\n",
       "      <td>0.0</td>\n",
       "    </tr>\n",
       "    <tr>\n",
       "      <td>199997</td>\n",
       "      <td>4.0</td>\n",
       "      <td>0</td>\n",
       "      <td>100</td>\n",
       "      <td>25</td>\n",
       "      <td>86.0</td>\n",
       "      <td>26.0</td>\n",
       "      <td>99</td>\n",
       "      <td>1.0</td>\n",
       "      <td>1.0</td>\n",
       "      <td>5.760631</td>\n",
       "      <td>238.210660</td>\n",
       "      <td>0</td>\n",
       "      <td>0.0</td>\n",
       "      <td>0.0</td>\n",
       "      <td>1.0</td>\n",
       "    </tr>\n",
       "    <tr>\n",
       "      <td>199998</td>\n",
       "      <td>2.0</td>\n",
       "      <td>1</td>\n",
       "      <td>91</td>\n",
       "      <td>17</td>\n",
       "      <td>73.0</td>\n",
       "      <td>23.0</td>\n",
       "      <td>96</td>\n",
       "      <td>1.0</td>\n",
       "      <td>0.0</td>\n",
       "      <td>4.832392</td>\n",
       "      <td>143.517263</td>\n",
       "      <td>1</td>\n",
       "      <td>0.0</td>\n",
       "      <td>0.0</td>\n",
       "      <td>0.0</td>\n",
       "    </tr>\n",
       "  </tbody>\n",
       "</table>\n",
       "<p>169731 rows × 15 columns</p>\n",
       "</div>"
      ],
      "text/plain": [
       "        AGE  GENDER  GLUCOSE  INSULIN miU/L  BLOOD PRESSURE  BODY MASS INDEX  \\\n",
       "0       4.0       0       98             25            80.0             21.0   \n",
       "1       3.0       0       67             18           124.0             21.0   \n",
       "2       3.0       1      110             24            83.0             25.0   \n",
       "3       2.0       1      116             25           125.0             25.0   \n",
       "4       4.0       1       74             15            87.0             20.0   \n",
       "...     ...     ...      ...            ...             ...              ...   \n",
       "199993  4.0       1       93             18           104.0             23.0   \n",
       "199995  4.0       0      104             29            78.0             26.0   \n",
       "199996  2.0       0       77             24           113.0             19.0   \n",
       "199997  4.0       0      100             25            86.0             26.0   \n",
       "199998  2.0       1       91             17            73.0             23.0   \n",
       "\n",
       "        WEIGHT  HEREDITARY  SMOKING/ALCOHOL     HbA1c  \\\n",
       "0           58         1.0              1.0  6.619852   \n",
       "1           65         0.0              0.0  4.816598   \n",
       "2           72         1.0              0.0  6.510829   \n",
       "3           88         1.0              0.0  6.411004   \n",
       "4           77         1.0              1.0  5.135397   \n",
       "...        ...         ...              ...       ...   \n",
       "199993      98         0.0              0.0  4.771436   \n",
       "199995      94         1.0              1.0  5.684273   \n",
       "199996      65         1.0              0.0  5.371662   \n",
       "199997      99         1.0              1.0  5.760631   \n",
       "199998      96         1.0              0.0  4.832392   \n",
       "\n",
       "        TRIGLYCERIDE mg/dl mg/dl  PHYSICAL EXERCISE  STEROID TREATMENT  \\\n",
       "0                     221.969299                  1                0.0   \n",
       "1                     145.699564                  0                0.0   \n",
       "2                     215.501935                  1                0.0   \n",
       "3                     190.124765                  0                0.0   \n",
       "4                     178.866059                  0                0.0   \n",
       "...                          ...                ...                ...   \n",
       "199993                138.382881                  0                0.0   \n",
       "199995                288.697612                  1                0.0   \n",
       "199996                175.183482                  1                0.0   \n",
       "199997                238.210660                  0                0.0   \n",
       "199998                143.517263                  1                0.0   \n",
       "\n",
       "        gestational diabete women   DIABETES  \n",
       "0                              0.0       0.0  \n",
       "1                              0.0       0.0  \n",
       "2                              0.0       1.0  \n",
       "3                              0.0       0.0  \n",
       "4                              0.0       1.0  \n",
       "...                            ...       ...  \n",
       "199993                         3.0       0.0  \n",
       "199995                         0.0       0.0  \n",
       "199996                         0.0       0.0  \n",
       "199997                         0.0       1.0  \n",
       "199998                         0.0       0.0  \n",
       "\n",
       "[169731 rows x 15 columns]"
      ]
     },
     "execution_count": 26,
     "metadata": {},
     "output_type": "execute_result"
    }
   ],
   "source": [
    "print(np.array(Spredict4test).shape)\n",
    "Spredict4train\n"
   ]
  },
  {
   "cell_type": "code",
   "execution_count": 27,
   "metadata": {},
   "outputs": [],
   "source": [
    "Spredict_col = Spredict4train.columns.tolist()\n",
    "Spredict_traintbl = [i for i in Spredict_col if i != 'STEROID TREATMENT']\n",
    "Spredict_testtbl = [i for i in Spredict_col if i == 'STEROID TREATMENT'] \n",
    "Spredict_train = Spredict4train[Spredict_traintbl]\n",
    "Spredict_test = Spredict4train[Spredict_testtbl]\n"
   ]
  },
  {
   "cell_type": "code",
   "execution_count": 28,
   "metadata": {},
   "outputs": [
    {
     "data": {
      "text/html": [
       "<div>\n",
       "<style scoped>\n",
       "    .dataframe tbody tr th:only-of-type {\n",
       "        vertical-align: middle;\n",
       "    }\n",
       "\n",
       "    .dataframe tbody tr th {\n",
       "        vertical-align: top;\n",
       "    }\n",
       "\n",
       "    .dataframe thead th {\n",
       "        text-align: right;\n",
       "    }\n",
       "</style>\n",
       "<table border=\"1\" class=\"dataframe\">\n",
       "  <thead>\n",
       "    <tr style=\"text-align: right;\">\n",
       "      <th></th>\n",
       "      <th>STEROID TREATMENT</th>\n",
       "    </tr>\n",
       "  </thead>\n",
       "  <tbody>\n",
       "    <tr>\n",
       "      <td>0</td>\n",
       "      <td>0.0</td>\n",
       "    </tr>\n",
       "    <tr>\n",
       "      <td>1</td>\n",
       "      <td>0.0</td>\n",
       "    </tr>\n",
       "    <tr>\n",
       "      <td>2</td>\n",
       "      <td>0.0</td>\n",
       "    </tr>\n",
       "    <tr>\n",
       "      <td>3</td>\n",
       "      <td>0.0</td>\n",
       "    </tr>\n",
       "    <tr>\n",
       "      <td>4</td>\n",
       "      <td>0.0</td>\n",
       "    </tr>\n",
       "    <tr>\n",
       "      <td>...</td>\n",
       "      <td>...</td>\n",
       "    </tr>\n",
       "    <tr>\n",
       "      <td>199993</td>\n",
       "      <td>0.0</td>\n",
       "    </tr>\n",
       "    <tr>\n",
       "      <td>199995</td>\n",
       "      <td>0.0</td>\n",
       "    </tr>\n",
       "    <tr>\n",
       "      <td>199996</td>\n",
       "      <td>0.0</td>\n",
       "    </tr>\n",
       "    <tr>\n",
       "      <td>199997</td>\n",
       "      <td>0.0</td>\n",
       "    </tr>\n",
       "    <tr>\n",
       "      <td>199998</td>\n",
       "      <td>0.0</td>\n",
       "    </tr>\n",
       "  </tbody>\n",
       "</table>\n",
       "<p>169731 rows × 1 columns</p>\n",
       "</div>"
      ],
      "text/plain": [
       "        STEROID TREATMENT\n",
       "0                     0.0\n",
       "1                     0.0\n",
       "2                     0.0\n",
       "3                     0.0\n",
       "4                     0.0\n",
       "...                   ...\n",
       "199993                0.0\n",
       "199995                0.0\n",
       "199996                0.0\n",
       "199997                0.0\n",
       "199998                0.0\n",
       "\n",
       "[169731 rows x 1 columns]"
      ]
     },
     "execution_count": 28,
     "metadata": {},
     "output_type": "execute_result"
    }
   ],
   "source": [
    "Spredict_test\n"
   ]
  },
  {
   "cell_type": "code",
   "execution_count": 29,
   "metadata": {},
   "outputs": [
    {
     "name": "stderr",
     "output_type": "stream",
     "text": [
      "C:\\Users\\ram2p\\Anaconda3\\lib\\site-packages\\sklearn\\linear_model\\logistic.py:432: FutureWarning: Default solver will be changed to 'lbfgs' in 0.22. Specify a solver to silence this warning.\n",
      "  FutureWarning)\n",
      "C:\\Users\\ram2p\\Anaconda3\\lib\\site-packages\\sklearn\\utils\\validation.py:724: DataConversionWarning: A column-vector y was passed when a 1d array was expected. Please change the shape of y to (n_samples, ), for example using ravel().\n",
      "  y = column_or_1d(y, warn=True)\n"
     ]
    },
    {
     "data": {
      "text/plain": [
       "LogisticRegression(C=1.0, class_weight=None, dual=False, fit_intercept=True,\n",
       "                   intercept_scaling=1, l1_ratio=None, max_iter=100,\n",
       "                   multi_class='warn', n_jobs=None, penalty='l2',\n",
       "                   random_state=None, solver='warn', tol=0.0001, verbose=0,\n",
       "                   warm_start=False)"
      ]
     },
     "execution_count": 29,
     "metadata": {},
     "output_type": "execute_result"
    }
   ],
   "source": [
    "SpredictLR = LogisticRegression()\n",
    "SpredictLR.fit(Spredict_train,Spredict_test)"
   ]
  },
  {
   "cell_type": "code",
   "execution_count": 30,
   "metadata": {},
   "outputs": [],
   "source": [
    "Sres = SpredictLR.predict(Spredict4test).tolist()"
   ]
  },
  {
   "cell_type": "code",
   "execution_count": 31,
   "metadata": {},
   "outputs": [
    {
     "name": "stderr",
     "output_type": "stream",
     "text": [
      "C:\\Users\\ram2p\\Anaconda3\\lib\\site-packages\\ipykernel_launcher.py:1: SettingWithCopyWarning: \n",
      "A value is trying to be set on a copy of a slice from a DataFrame\n",
      "\n",
      "See the caveats in the documentation: http://pandas.pydata.org/pandas-docs/stable/user_guide/indexing.html#returning-a-view-versus-a-copy\n",
      "  \"\"\"Entry point for launching an IPython kernel.\n",
      "C:\\Users\\ram2p\\Anaconda3\\lib\\site-packages\\pandas\\core\\generic.py:9114: SettingWithCopyWarning: \n",
      "A value is trying to be set on a copy of a slice from a DataFrame\n",
      "\n",
      "See the caveats in the documentation: http://pandas.pydata.org/pandas-docs/stable/user_guide/indexing.html#returning-a-view-versus-a-copy\n",
      "  self._update_inplace(new_data)\n",
      "C:\\Users\\ram2p\\Anaconda3\\lib\\site-packages\\IPython\\core\\interactiveshell.py:3326: SettingWithCopyWarning: \n",
      "A value is trying to be set on a copy of a slice from a DataFrame\n",
      "\n",
      "See the caveats in the documentation: http://pandas.pydata.org/pandas-docs/stable/user_guide/indexing.html#returning-a-view-versus-a-copy\n",
      "  exec(code_obj, self.user_global_ns, self.user_ns)\n"
     ]
    }
   ],
   "source": [
    "Fdata['STEROID TREATMENT'][Fdata['STEROID TREATMENT'].isnull()] = Sres"
   ]
  },
  {
   "cell_type": "code",
   "execution_count": 32,
   "metadata": {},
   "outputs": [
    {
     "data": {
      "text/plain": [
       "AGE                               0\n",
       "GENDER                            0\n",
       "GLUCOSE                           0\n",
       "INSULIN miU/L                     0\n",
       "BLOOD PRESSURE                    0\n",
       "BODY MASS INDEX                   0\n",
       "WEIGHT                            0\n",
       "HEREDITARY                        0\n",
       "SMOKING/ALCOHOL                   0\n",
       "HbA1c                             0\n",
       "TRIGLYCERIDE mg/dl mg/dl          0\n",
       "PHYSICAL EXERCISE                 0\n",
       "STEROID TREATMENT                 0\n",
       "gestational diabete women         0\n",
       "CALORIE INTAKE                19562\n",
       "DIABETES                          0\n",
       "dtype: int64"
      ]
     },
     "execution_count": 32,
     "metadata": {},
     "output_type": "execute_result"
    }
   ],
   "source": [
    "Fdata.isnull().sum()"
   ]
  },
  {
   "cell_type": "code",
   "execution_count": 33,
   "metadata": {},
   "outputs": [],
   "source": [
    "Cpredict4tes = Fdata[Fdata['CALORIE INTAKE'].isnull()]\n",
    "Cpredict4train = Fdata[~Fdata['CALORIE INTAKE'].isnull()]\n",
    "Cpredict4test = Cpredict4tes.drop(columns=['CALORIE INTAKE'])"
   ]
  },
  {
   "cell_type": "code",
   "execution_count": 34,
   "metadata": {},
   "outputs": [],
   "source": [
    "Cpredict_col = Cpredict4train.columns.tolist()\n",
    "Cpredict_traintbl = [i for i in Cpredict_col if i != 'CALORIE INTAKE']\n",
    "Cpredict_testtbl = [i for i in Cpredict_col if i == 'CALORIE INTAKE'] \n",
    "Cpredict_train = Cpredict4train[Cpredict_traintbl]\n",
    "Cpredict_test = Cpredict4train[Cpredict_testtbl]"
   ]
  },
  {
   "cell_type": "code",
   "execution_count": 35,
   "metadata": {},
   "outputs": [
    {
     "data": {
      "text/html": [
       "<div>\n",
       "<style scoped>\n",
       "    .dataframe tbody tr th:only-of-type {\n",
       "        vertical-align: middle;\n",
       "    }\n",
       "\n",
       "    .dataframe tbody tr th {\n",
       "        vertical-align: top;\n",
       "    }\n",
       "\n",
       "    .dataframe thead th {\n",
       "        text-align: right;\n",
       "    }\n",
       "</style>\n",
       "<table border=\"1\" class=\"dataframe\">\n",
       "  <thead>\n",
       "    <tr style=\"text-align: right;\">\n",
       "      <th></th>\n",
       "      <th>CALORIE INTAKE</th>\n",
       "    </tr>\n",
       "  </thead>\n",
       "  <tbody>\n",
       "    <tr>\n",
       "      <td>0</td>\n",
       "      <td>4.0</td>\n",
       "    </tr>\n",
       "    <tr>\n",
       "      <td>1</td>\n",
       "      <td>4.0</td>\n",
       "    </tr>\n",
       "    <tr>\n",
       "      <td>2</td>\n",
       "      <td>18.0</td>\n",
       "    </tr>\n",
       "    <tr>\n",
       "      <td>3</td>\n",
       "      <td>18.0</td>\n",
       "    </tr>\n",
       "    <tr>\n",
       "      <td>4</td>\n",
       "      <td>6.0</td>\n",
       "    </tr>\n",
       "    <tr>\n",
       "      <td>...</td>\n",
       "      <td>...</td>\n",
       "    </tr>\n",
       "    <tr>\n",
       "      <td>199994</td>\n",
       "      <td>7.0</td>\n",
       "    </tr>\n",
       "    <tr>\n",
       "      <td>199995</td>\n",
       "      <td>13.0</td>\n",
       "    </tr>\n",
       "    <tr>\n",
       "      <td>199996</td>\n",
       "      <td>4.0</td>\n",
       "    </tr>\n",
       "    <tr>\n",
       "      <td>199997</td>\n",
       "      <td>13.0</td>\n",
       "    </tr>\n",
       "    <tr>\n",
       "      <td>199998</td>\n",
       "      <td>13.0</td>\n",
       "    </tr>\n",
       "  </tbody>\n",
       "</table>\n",
       "<p>175194 rows × 1 columns</p>\n",
       "</div>"
      ],
      "text/plain": [
       "        CALORIE INTAKE\n",
       "0                  4.0\n",
       "1                  4.0\n",
       "2                 18.0\n",
       "3                 18.0\n",
       "4                  6.0\n",
       "...                ...\n",
       "199994             7.0\n",
       "199995            13.0\n",
       "199996             4.0\n",
       "199997            13.0\n",
       "199998            13.0\n",
       "\n",
       "[175194 rows x 1 columns]"
      ]
     },
     "execution_count": 35,
     "metadata": {},
     "output_type": "execute_result"
    }
   ],
   "source": [
    "Cpredict_test"
   ]
  },
  {
   "cell_type": "code",
   "execution_count": 36,
   "metadata": {},
   "outputs": [
    {
     "name": "stderr",
     "output_type": "stream",
     "text": [
      "C:\\Users\\ram2p\\Anaconda3\\lib\\site-packages\\sklearn\\linear_model\\logistic.py:432: FutureWarning: Default solver will be changed to 'lbfgs' in 0.22. Specify a solver to silence this warning.\n",
      "  FutureWarning)\n",
      "C:\\Users\\ram2p\\Anaconda3\\lib\\site-packages\\sklearn\\utils\\validation.py:724: DataConversionWarning: A column-vector y was passed when a 1d array was expected. Please change the shape of y to (n_samples, ), for example using ravel().\n",
      "  y = column_or_1d(y, warn=True)\n",
      "C:\\Users\\ram2p\\Anaconda3\\lib\\site-packages\\sklearn\\linear_model\\logistic.py:469: FutureWarning: Default multi_class will be changed to 'auto' in 0.22. Specify the multi_class option to silence this warning.\n",
      "  \"this warning.\", FutureWarning)\n",
      "C:\\Users\\ram2p\\Anaconda3\\lib\\site-packages\\sklearn\\svm\\base.py:929: ConvergenceWarning: Liblinear failed to converge, increase the number of iterations.\n",
      "  \"the number of iterations.\", ConvergenceWarning)\n"
     ]
    },
    {
     "data": {
      "text/plain": [
       "LogisticRegression(C=1.0, class_weight=None, dual=False, fit_intercept=True,\n",
       "                   intercept_scaling=1, l1_ratio=None, max_iter=100,\n",
       "                   multi_class='warn', n_jobs=None, penalty='l2',\n",
       "                   random_state=None, solver='warn', tol=0.0001, verbose=0,\n",
       "                   warm_start=False)"
      ]
     },
     "execution_count": 36,
     "metadata": {},
     "output_type": "execute_result"
    }
   ],
   "source": [
    "CpredictLR = LogisticRegression()\n",
    "CpredictLR.fit(Cpredict_train,Cpredict_test)"
   ]
  },
  {
   "cell_type": "code",
   "execution_count": 37,
   "metadata": {},
   "outputs": [],
   "source": [
    "Cres = CpredictLR.predict(Cpredict4test).tolist()"
   ]
  },
  {
   "cell_type": "code",
   "execution_count": 38,
   "metadata": {},
   "outputs": [
    {
     "name": "stderr",
     "output_type": "stream",
     "text": [
      "C:\\Users\\ram2p\\Anaconda3\\lib\\site-packages\\ipykernel_launcher.py:1: SettingWithCopyWarning: \n",
      "A value is trying to be set on a copy of a slice from a DataFrame\n",
      "\n",
      "See the caveats in the documentation: http://pandas.pydata.org/pandas-docs/stable/user_guide/indexing.html#returning-a-view-versus-a-copy\n",
      "  \"\"\"Entry point for launching an IPython kernel.\n",
      "C:\\Users\\ram2p\\Anaconda3\\lib\\site-packages\\pandas\\core\\generic.py:9114: SettingWithCopyWarning: \n",
      "A value is trying to be set on a copy of a slice from a DataFrame\n",
      "\n",
      "See the caveats in the documentation: http://pandas.pydata.org/pandas-docs/stable/user_guide/indexing.html#returning-a-view-versus-a-copy\n",
      "  self._update_inplace(new_data)\n",
      "C:\\Users\\ram2p\\Anaconda3\\lib\\site-packages\\IPython\\core\\interactiveshell.py:3326: SettingWithCopyWarning: \n",
      "A value is trying to be set on a copy of a slice from a DataFrame\n",
      "\n",
      "See the caveats in the documentation: http://pandas.pydata.org/pandas-docs/stable/user_guide/indexing.html#returning-a-view-versus-a-copy\n",
      "  exec(code_obj, self.user_global_ns, self.user_ns)\n"
     ]
    }
   ],
   "source": [
    "Fdata['CALORIE INTAKE'][Fdata['CALORIE INTAKE'].isnull()] = Cres"
   ]
  },
  {
   "cell_type": "code",
   "execution_count": 39,
   "metadata": {},
   "outputs": [
    {
     "data": {
      "text/plain": [
       "AGE                           0\n",
       "GENDER                        0\n",
       "GLUCOSE                       0\n",
       "INSULIN miU/L                 0\n",
       "BLOOD PRESSURE                0\n",
       "BODY MASS INDEX               0\n",
       "WEIGHT                        0\n",
       "HEREDITARY                    0\n",
       "SMOKING/ALCOHOL               0\n",
       "HbA1c                         0\n",
       "TRIGLYCERIDE mg/dl mg/dl      0\n",
       "PHYSICAL EXERCISE             0\n",
       "STEROID TREATMENT             0\n",
       "gestational diabete women     0\n",
       "CALORIE INTAKE                0\n",
       "DIABETES                      0\n",
       "dtype: int64"
      ]
     },
     "execution_count": 39,
     "metadata": {},
     "output_type": "execute_result"
    }
   ],
   "source": [
    "Fdata.isnull().sum()"
   ]
  },
  {
   "cell_type": "code",
   "execution_count": 51,
   "metadata": {},
   "outputs": [
    {
     "data": {
      "text/plain": [
       "AGE                              0\n",
       "GENDER                           0\n",
       "GLUCOSE                          0\n",
       "INSULIN miU/L                    0\n",
       "BLOOD PRESSURE                   0\n",
       "BODY MASS INDEX                  0\n",
       "WEIGHT                           0\n",
       "HEREDITARY                       0\n",
       "SMOKING/ALCOHOL                  0\n",
       "HbA1c                            0\n",
       "TRIGLYCERIDE mg/dl mg/dl         0\n",
       "PHYSICAL EXERCISE                0\n",
       "STEROID TREATMENT              519\n",
       "gestational diabete women        0\n",
       "CALORIE INTAKE                 483\n",
       "DIABETES                      5163\n",
       "dtype: int64"
      ]
     },
     "execution_count": 51,
     "metadata": {},
     "output_type": "execute_result"
    }
   ],
   "source": [
    "Fdata4test.isnull().sum()"
   ]
  },
  {
   "cell_type": "code",
   "execution_count": 52,
   "metadata": {},
   "outputs": [],
   "source": [
    "Data = Fdata.append(Fdata4test)"
   ]
  },
  {
   "cell_type": "code",
   "execution_count": 53,
   "metadata": {},
   "outputs": [
    {
     "data": {
      "text/plain": [
       "AGE                              0\n",
       "GENDER                           0\n",
       "GLUCOSE                          0\n",
       "INSULIN miU/L                    0\n",
       "BLOOD PRESSURE                   0\n",
       "BODY MASS INDEX                  0\n",
       "WEIGHT                           0\n",
       "HEREDITARY                       0\n",
       "SMOKING/ALCOHOL                  0\n",
       "HbA1c                            0\n",
       "TRIGLYCERIDE mg/dl mg/dl         0\n",
       "PHYSICAL EXERCISE                0\n",
       "STEROID TREATMENT              519\n",
       "gestational diabete women        0\n",
       "CALORIE INTAKE                 483\n",
       "DIABETES                      5163\n",
       "dtype: int64"
      ]
     },
     "execution_count": 53,
     "metadata": {},
     "output_type": "execute_result"
    }
   ],
   "source": [
    "Data.isnull().sum()"
   ]
  },
  {
   "cell_type": "code",
   "execution_count": 59,
   "metadata": {},
   "outputs": [],
   "source": [
    "Sidx = Data[Data['STEROID TREATMENT'].isnull()].index.values.tolist()\n",
    "Cidx = Data[Data['CALORIE INTAKE'].isnull()].index.values.tolist()"
   ]
  },
  {
   "cell_type": "code",
   "execution_count": 60,
   "metadata": {},
   "outputs": [],
   "source": [
    "Data = Data.drop(Sidx)\n",
    "Data = Data.drop(Cidx)"
   ]
  },
  {
   "cell_type": "code",
   "execution_count": 61,
   "metadata": {},
   "outputs": [
    {
     "data": {
      "text/plain": [
       "AGE                              0\n",
       "GENDER                           0\n",
       "GLUCOSE                          0\n",
       "INSULIN miU/L                    0\n",
       "BLOOD PRESSURE                   0\n",
       "BODY MASS INDEX                  0\n",
       "WEIGHT                           0\n",
       "HEREDITARY                       0\n",
       "SMOKING/ALCOHOL                  0\n",
       "HbA1c                            0\n",
       "TRIGLYCERIDE mg/dl mg/dl         0\n",
       "PHYSICAL EXERCISE                0\n",
       "STEROID TREATMENT                0\n",
       "gestational diabete women        0\n",
       "CALORIE INTAKE                   0\n",
       "DIABETES                      4212\n",
       "dtype: int64"
      ]
     },
     "execution_count": 61,
     "metadata": {},
     "output_type": "execute_result"
    }
   ],
   "source": [
    "Data.isnull().sum()"
   ]
  },
  {
   "cell_type": "code",
   "execution_count": 62,
   "metadata": {},
   "outputs": [],
   "source": [
    "dtes = Data[Data['DIABETES'].isnull()]\n",
    "dtrain = Data[~Data['DIABETES'].isnull()]\n",
    "dtest = dtes.drop(columns=['DIABETES'])"
   ]
  },
  {
   "cell_type": "code",
   "execution_count": 63,
   "metadata": {},
   "outputs": [],
   "source": [
    "d_col = dtrain.columns.tolist()\n",
    "dd_traintbl = [i for i in d_col if i != 'DIABETES']\n",
    "dd_testtbl = [i for i in d_col if i == 'DIABETES'] \n",
    "dd_train = dtrain[dd_traintbl]\n",
    "dd_test = dtrain[dd_testtbl]"
   ]
  },
  {
   "cell_type": "code",
   "execution_count": 64,
   "metadata": {},
   "outputs": [
    {
     "name": "stderr",
     "output_type": "stream",
     "text": [
      "C:\\Users\\ram2p\\Anaconda3\\lib\\site-packages\\sklearn\\linear_model\\logistic.py:432: FutureWarning: Default solver will be changed to 'lbfgs' in 0.22. Specify a solver to silence this warning.\n",
      "  FutureWarning)\n",
      "C:\\Users\\ram2p\\Anaconda3\\lib\\site-packages\\sklearn\\utils\\validation.py:724: DataConversionWarning: A column-vector y was passed when a 1d array was expected. Please change the shape of y to (n_samples, ), for example using ravel().\n",
      "  y = column_or_1d(y, warn=True)\n"
     ]
    },
    {
     "data": {
      "text/plain": [
       "LogisticRegression(C=1.0, class_weight=None, dual=False, fit_intercept=True,\n",
       "                   intercept_scaling=1, l1_ratio=None, max_iter=100,\n",
       "                   multi_class='warn', n_jobs=None, penalty='l2',\n",
       "                   random_state=None, solver='warn', tol=0.0001, verbose=0,\n",
       "                   warm_start=False)"
      ]
     },
     "execution_count": 64,
     "metadata": {},
     "output_type": "execute_result"
    }
   ],
   "source": [
    "dLR = LogisticRegression()\n",
    "dLR.fit(dd_train,dd_test)"
   ]
  },
  {
   "cell_type": "code",
   "execution_count": 65,
   "metadata": {},
   "outputs": [],
   "source": [
    "dres = dLR.predict(dtest).tolist()"
   ]
  },
  {
   "cell_type": "code",
   "execution_count": 67,
   "metadata": {},
   "outputs": [
    {
     "name": "stderr",
     "output_type": "stream",
     "text": [
      "C:\\Users\\ram2p\\Anaconda3\\lib\\site-packages\\ipykernel_launcher.py:1: SettingWithCopyWarning: \n",
      "A value is trying to be set on a copy of a slice from a DataFrame\n",
      "\n",
      "See the caveats in the documentation: http://pandas.pydata.org/pandas-docs/stable/user_guide/indexing.html#returning-a-view-versus-a-copy\n",
      "  \"\"\"Entry point for launching an IPython kernel.\n"
     ]
    }
   ],
   "source": [
    "Data['DIABETES'][Data['DIABETES'].isnull()] = dres"
   ]
  },
  {
   "cell_type": "code",
   "execution_count": 69,
   "metadata": {},
   "outputs": [],
   "source": [
    "Dcol = Data.columns.tolist()\n",
    "D_traintbl = [i for i in Dcol if i != 'DIABETES']\n",
    "D_testtbl = [i for i in Dcol if i == 'DIABETES'] \n",
    "X = Data[D_traintbl]\n",
    "Y = Data[D_testtbl]"
   ]
  },
  {
   "cell_type": "code",
   "execution_count": 70,
   "metadata": {},
   "outputs": [
    {
     "name": "stdout",
     "output_type": "stream",
     "text": [
      "Train cases as below\n",
      "X_train shape:  (159174, 15)\n",
      "Y_train shape:  (159174, 1)\n",
      "\n",
      "Test cases as below\n",
      "X_test shape:  (39794, 15)\n",
      "Y_test shape:  (39794, 1)\n"
     ]
    }
   ],
   "source": [
    "X_train, X_test, Y_train, Y_test = train_test_split(X, Y, test_size=0.20, random_state=10)\n",
    "print('Train cases as below')\n",
    "print('X_train shape: ',X_train.shape)\n",
    "print('Y_train shape: ',Y_train.shape)\n",
    "print('\\nTest cases as below')\n",
    "print('X_test shape: ',X_test.shape)\n",
    "print('Y_test shape: ',Y_test.shape)"
   ]
  },
  {
   "cell_type": "code",
   "execution_count": 81,
   "metadata": {},
   "outputs": [],
   "source": [
    "logreg = LogisticRegression()"
   ]
  },
  {
   "cell_type": "code",
   "execution_count": 82,
   "metadata": {},
   "outputs": [
    {
     "name": "stderr",
     "output_type": "stream",
     "text": [
      "C:\\Users\\ram2p\\Anaconda3\\lib\\site-packages\\sklearn\\linear_model\\logistic.py:432: FutureWarning: Default solver will be changed to 'lbfgs' in 0.22. Specify a solver to silence this warning.\n",
      "  FutureWarning)\n",
      "C:\\Users\\ram2p\\Anaconda3\\lib\\site-packages\\sklearn\\utils\\validation.py:724: DataConversionWarning: A column-vector y was passed when a 1d array was expected. Please change the shape of y to (n_samples, ), for example using ravel().\n",
      "  y = column_or_1d(y, warn=True)\n"
     ]
    },
    {
     "data": {
      "text/plain": [
       "LogisticRegression(C=1.0, class_weight=None, dual=False, fit_intercept=True,\n",
       "                   intercept_scaling=1, l1_ratio=None, max_iter=100,\n",
       "                   multi_class='warn', n_jobs=None, penalty='l2',\n",
       "                   random_state=None, solver='warn', tol=0.0001, verbose=0,\n",
       "                   warm_start=False)"
      ]
     },
     "execution_count": 82,
     "metadata": {},
     "output_type": "execute_result"
    }
   ],
   "source": [
    "logreg.fit(X_train,Y_train)"
   ]
  },
  {
   "cell_type": "code",
   "execution_count": 83,
   "metadata": {},
   "outputs": [],
   "source": [
    "Y_pred_train = logreg.predict(X_train)  \n",
    "Y_pred_test = logreg.predict(X_test) "
   ]
  },
  {
   "cell_type": "code",
   "execution_count": 84,
   "metadata": {},
   "outputs": [
    {
     "name": "stdout",
     "output_type": "stream",
     "text": [
      "Accuracy score for training data is: 0.6541394951436792\n",
      "Accuracy score for test data is: 0.6512036990501081\n"
     ]
    }
   ],
   "source": [
    "from sklearn.metrics import accuracy_score\n",
    "print('Accuracy score for training data is:', accuracy_score(Y_train,Y_pred_train))\n",
    "print('Accuracy score for test data is:', accuracy_score(Y_test,Y_pred_test))"
   ]
  },
  {
   "cell_type": "code",
   "execution_count": 85,
   "metadata": {},
   "outputs": [
    {
     "name": "stdout",
     "output_type": "stream",
     "text": [
      "            Predicted Yes  Predicted No\n",
      "Actual Yes          15049          5429\n",
      "Actual No            8451         10865\n"
     ]
    }
   ],
   "source": [
    "from sklearn.metrics import confusion_matrix\n",
    "confusion_matrix = pd.DataFrame(confusion_matrix(Y_test, Y_pred_test))\n",
    "confusion_matrix.index = ['Actual Yes','Actual No']\n",
    "confusion_matrix.columns = ['Predicted Yes','Predicted No']\n",
    "print(confusion_matrix)"
   ]
  },
  {
   "cell_type": "code",
   "execution_count": 90,
   "metadata": {},
   "outputs": [
    {
     "name": "stdout",
     "output_type": "stream",
     "text": [
      "Accuracy score for training data is:               precision    recall  f1-score   support\n",
      "\n",
      "         0.0       0.65      0.73      0.69     82333\n",
      "         1.0       0.67      0.57      0.61     76841\n",
      "\n",
      "    accuracy                           0.65    159174\n",
      "   macro avg       0.66      0.65      0.65    159174\n",
      "weighted avg       0.66      0.65      0.65    159174\n",
      "\n",
      "Accuracy score for test data is:               precision    recall  f1-score   support\n",
      "\n",
      "         0.0       0.64      0.73      0.68     20478\n",
      "         1.0       0.67      0.56      0.61     19316\n",
      "\n",
      "    accuracy                           0.65     39794\n",
      "   macro avg       0.65      0.65      0.65     39794\n",
      "weighted avg       0.65      0.65      0.65     39794\n",
      "\n"
     ]
    }
   ],
   "source": [
    "from sklearn.metrics import classification_report\n",
    "print('Accuracy score for training data is:', classification_report(Y_train,Y_pred_train))\n",
    "print('Accuracy score for test data is:', classification_report(Y_test,Y_pred_test))"
   ]
  },
  {
   "cell_type": "code",
   "execution_count": null,
   "metadata": {},
   "outputs": [],
   "source": []
  }
 ],
 "metadata": {
  "kernelspec": {
   "display_name": "Python 3",
   "language": "python",
   "name": "python3"
  },
  "language_info": {
   "codemirror_mode": {
    "name": "ipython",
    "version": 3
   },
   "file_extension": ".py",
   "mimetype": "text/x-python",
   "name": "python",
   "nbconvert_exporter": "python",
   "pygments_lexer": "ipython3",
   "version": "3.7.4"
  }
 },
 "nbformat": 4,
 "nbformat_minor": 2
}
